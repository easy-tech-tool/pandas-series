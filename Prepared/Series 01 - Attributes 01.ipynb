{
 "cells": [
  {
   "cell_type": "markdown",
   "metadata": {},
   "source": [
    "## Pandas Series - Attributes\n",
    "\n",
    "Here we are gonna discuss\n",
    "1. index\n",
    "2. name\n",
    "3. at\n",
    "4. iat\n",
    "5. loc\n",
    "6. iloc\n",
    "7. shape\n",
    "8. size\n",
    "9. ndim"
   ]
  },
  {
   "cell_type": "code",
   "execution_count": 1,
   "metadata": {},
   "outputs": [],
   "source": [
    "# Importing libraries\n",
    "import pandas as pd\n",
    "import numpy as np # Not required now, so if you wish you can comment this out.\n",
    "\n",
    "# Some required constant variables which we can refer in our code.\n",
    "import string\n",
    "UPPER = list(string.ascii_uppercase)\n",
    "LOWER = list(string.ascii_lowercase)"
   ]
  },
  {
   "cell_type": "markdown",
   "metadata": {},
   "source": [
    "#### Creating a Pandas Series\n",
    "\n",
    "For suggestions in jupyter notebook:\n",
    "* auto-completion - *Tab*\n",
    "* paramters suggestion - *Shift + Tab*"
   ]
  },
  {
   "cell_type": "code",
   "execution_count": 2,
   "metadata": {},
   "outputs": [
    {
     "data": {
      "text/plain": [
       "A    a\n",
       "B    b\n",
       "C    c\n",
       "D    d\n",
       "Name: Demo, dtype: object"
      ]
     },
     "execution_count": 2,
     "metadata": {},
     "output_type": "execute_result"
    }
   ],
   "source": [
    "# Creating Pandas Series.\n",
    "series = pd.Series(data=['a', 'b', 'c', 'd'], index=['A', 'B', 'C', 'D'], name='Demo')\n",
    "\n",
    "# Printing the series\n",
    "series"
   ]
  },
  {
   "cell_type": "code",
   "execution_count": 3,
   "metadata": {},
   "outputs": [
    {
     "name": "stderr",
     "output_type": "stream",
     "text": [
      "<ipython-input-3-87392e1ecd84>:2: DeprecationWarning: The default dtype for empty Series will be 'object' instead of 'float64' in a future version. Specify a dtype explicitly to silence this warning.\n",
      "  empty_series = pd.Series()\n"
     ]
    },
    {
     "data": {
      "text/plain": [
       "dtype('float64')"
      ]
     },
     "execution_count": 3,
     "metadata": {},
     "output_type": "execute_result"
    }
   ],
   "source": [
    "# Creating an empty series.\n",
    "empty_series = pd.Series()\n",
    "\n",
    "# At the time of recording this video, it will give warning specifying. Please check the video to know the \n",
    "# reason of this warning.\n",
    "empty_series.dtype"
   ]
  },
  {
   "cell_type": "markdown",
   "metadata": {},
   "source": [
    "#### Series.name\n",
    "\n",
    "It returns the name of the Series if provided else None."
   ]
  },
  {
   "cell_type": "code",
   "execution_count": 4,
   "metadata": {},
   "outputs": [],
   "source": [
    "# Creating series without name.\n",
    "unnamed_series = pd.Series(data=range(10))\n",
    "\n",
    "# It returns None.\n",
    "# To check the value, use print(unnamed_series.name)\n",
    "unnamed_series.name"
   ]
  },
  {
   "cell_type": "code",
   "execution_count": 5,
   "metadata": {},
   "outputs": [
    {
     "data": {
      "text/plain": [
       "'I got a name'"
      ]
     },
     "execution_count": 5,
     "metadata": {},
     "output_type": "execute_result"
    }
   ],
   "source": [
    "# Creating series with name.\n",
    "named_series = pd.Series(data=range(5), name='I got a name')\n",
    "\n",
    "named_series.name"
   ]
  },
  {
   "cell_type": "markdown",
   "metadata": {},
   "source": [
    "#### Series.index\n",
    "\n",
    "It retuns the type of the index."
   ]
  },
  {
   "cell_type": "code",
   "execution_count": 6,
   "metadata": {},
   "outputs": [
    {
     "data": {
      "text/plain": [
       "RangeIndex(start=0, stop=5, step=1)"
      ]
     },
     "execution_count": 6,
     "metadata": {},
     "output_type": "execute_result"
    }
   ],
   "source": [
    "# Creating series without explicit index.\n",
    "no_index = pd.Series(data=range(5))\n",
    "\n",
    "# By default, it uses RangeIndex.\n",
    "no_index.index"
   ]
  },
  {
   "cell_type": "code",
   "execution_count": 7,
   "metadata": {},
   "outputs": [
    {
     "data": {
      "text/plain": [
       "Index(['A', 'B', 'C', 'D', 'E'], dtype='object')"
      ]
     },
     "execution_count": 7,
     "metadata": {},
     "output_type": "execute_result"
    }
   ],
   "source": [
    "# Creating series with explicit index.\n",
    "with_index = pd.Series(data=range(5), index=UPPER[:5])\n",
    "\n",
    "with_index.index"
   ]
  },
  {
   "cell_type": "markdown",
   "metadata": {},
   "source": [
    "#### Series.at\n",
    "\n",
    "Used to get or set single value using integer based indexing."
   ]
  },
  {
   "cell_type": "code",
   "execution_count": 8,
   "metadata": {},
   "outputs": [
    {
     "data": {
      "text/plain": [
       "'d'"
      ]
     },
     "execution_count": 8,
     "metadata": {},
     "output_type": "execute_result"
    }
   ],
   "source": [
    "series = pd.Series(data=LOWER[:10], index=UPPER[:10])\n",
    "\n",
    "series.at['D']"
   ]
  },
  {
   "cell_type": "markdown",
   "metadata": {},
   "source": [
    "#### Series.iat\n",
    "\n",
    "Used to get or set single value using integer based indexing."
   ]
  },
  {
   "cell_type": "code",
   "execution_count": 9,
   "metadata": {},
   "outputs": [
    {
     "name": "stdout",
     "output_type": "stream",
     "text": [
      "c\n"
     ]
    },
    {
     "data": {
      "text/plain": [
       "'i'"
      ]
     },
     "execution_count": 9,
     "metadata": {},
     "output_type": "execute_result"
    }
   ],
   "source": [
    "series = pd.Series(data=LOWER[:10], index=UPPER[:10])\n",
    "\n",
    "print(series.iat[2])\n",
    "\n",
    "# It can also accept negative values, which means it will start from backwards.\n",
    "series.iat[-2]"
   ]
  },
  {
   "cell_type": "markdown",
   "metadata": {},
   "source": [
    "#### Series.loc\n",
    "\n",
    "It can take following inputs:\n",
    "* A single label.\n",
    "* A list of labels.\n",
    "* A boolean array of the same size as of data.\n",
    "* A callable function which can return any three of the above."
   ]
  },
  {
   "cell_type": "code",
   "execution_count": 10,
   "metadata": {},
   "outputs": [
    {
     "data": {
      "text/plain": [
       "'c'"
      ]
     },
     "execution_count": 10,
     "metadata": {},
     "output_type": "execute_result"
    }
   ],
   "source": [
    "# Creating a series.\n",
    "series = pd.Series(data=LOWER[:10], index=UPPER[:10])\n",
    "\n",
    "# Printing single value is same as .at\n",
    "series.loc['C']"
   ]
  },
  {
   "cell_type": "code",
   "execution_count": 11,
   "metadata": {},
   "outputs": [
    {
     "data": {
      "text/plain": [
       "B    b\n",
       "D    d\n",
       "A    a\n",
       "dtype: object"
      ]
     },
     "execution_count": 11,
     "metadata": {},
     "output_type": "execute_result"
    }
   ],
   "source": [
    "# Getting multiple values.\n",
    "series.loc[['B', 'D', 'A']]"
   ]
  },
  {
   "cell_type": "code",
   "execution_count": 12,
   "metadata": {},
   "outputs": [
    {
     "data": {
      "text/plain": [
       "A    a\n",
       "B    b\n",
       "C    c\n",
       "D    d\n",
       "E    e\n",
       "dtype: object"
      ]
     },
     "execution_count": 12,
     "metadata": {},
     "output_type": "execute_result"
    }
   ],
   "source": [
    "# Passing a boolean array.\n",
    "bool_arr = [True] * 5 + [False] * 5\n",
    "series.loc[bool_arr]"
   ]
  },
  {
   "cell_type": "code",
   "execution_count": 13,
   "metadata": {},
   "outputs": [
    {
     "data": {
      "text/plain": [
       "A    a\n",
       "E    e\n",
       "I    i\n",
       "dtype: object"
      ]
     },
     "execution_count": 13,
     "metadata": {},
     "output_type": "execute_result"
    }
   ],
   "source": [
    "# Checking for vowel.\n",
    "def is_vowel(ch):\n",
    "    return ch in ['a', 'e', 'i', 'o', 'u']\n",
    "\n",
    "# Defining a callable function.\n",
    "def call_me(ar):\n",
    "    return [is_vowel(ch) for ch in ar]\n",
    "\n",
    "# Passing a callable function.\n",
    "series.loc[call_me]"
   ]
  },
  {
   "cell_type": "code",
   "execution_count": 14,
   "metadata": {},
   "outputs": [
    {
     "data": {
      "text/plain": [
       "A    a\n",
       "F    f\n",
       "B    b\n",
       "dtype: object"
      ]
     },
     "execution_count": 14,
     "metadata": {},
     "output_type": "execute_result"
    }
   ],
   "source": [
    "# Passing a lambda as the callable function.\n",
    "# Also callable function can return any of the other three defined.\n",
    "\n",
    "series.loc[lambda x: ['A', 'F', 'B']]"
   ]
  },
  {
   "cell_type": "markdown",
   "metadata": {},
   "source": [
    "#### Series.iloc\n",
    "\n",
    "It is same as loc but it can only accept integer based indexing instead of labels.\n",
    "Following inputs are allowed:\n",
    "* A single integer index.\n",
    "* A list of integer indices.\n",
    "* A boolean array of the same length.\n",
    "* A callable function which can return any three of the above."
   ]
  },
  {
   "cell_type": "code",
   "execution_count": 15,
   "metadata": {},
   "outputs": [
    {
     "data": {
      "text/plain": [
       "'b'"
      ]
     },
     "execution_count": 15,
     "metadata": {},
     "output_type": "execute_result"
    }
   ],
   "source": [
    "# Creating a series.\n",
    "series = pd.Series(data=LOWER[:10], index=UPPER[:10])\n",
    "\n",
    "# Printing single value same as iat.\n",
    "series.iloc[1]"
   ]
  },
  {
   "cell_type": "code",
   "execution_count": 16,
   "metadata": {},
   "outputs": [
    {
     "data": {
      "text/plain": [
       "A    a\n",
       "F    f\n",
       "H    h\n",
       "dtype: object"
      ]
     },
     "execution_count": 16,
     "metadata": {},
     "output_type": "execute_result"
    }
   ],
   "source": [
    "# Getting multiple values.\n",
    "series.iloc[[0, 5, 7]]"
   ]
  },
  {
   "cell_type": "code",
   "execution_count": 17,
   "metadata": {},
   "outputs": [
    {
     "data": {
      "text/plain": [
       "A    a\n",
       "B    b\n",
       "C    c\n",
       "D    d\n",
       "E    e\n",
       "dtype: object"
      ]
     },
     "execution_count": 17,
     "metadata": {},
     "output_type": "execute_result"
    }
   ],
   "source": [
    "# Passing a boolean array.\n",
    "bool_arr = [True] * 5 + [False] * 5\n",
    "series.loc[bool_arr]"
   ]
  },
  {
   "cell_type": "code",
   "execution_count": 18,
   "metadata": {},
   "outputs": [
    {
     "data": {
      "text/plain": [
       "A    a\n",
       "E    e\n",
       "I    i\n",
       "dtype: object"
      ]
     },
     "execution_count": 18,
     "metadata": {},
     "output_type": "execute_result"
    }
   ],
   "source": [
    "# Checking for vowel.\n",
    "def is_vowel(ch):\n",
    "    return ch in ['a', 'e', 'i', 'o', 'u']\n",
    "\n",
    "# Defining a callable function.\n",
    "def call_me(ar):\n",
    "    return [is_vowel(ch) for ch in ar]\n",
    "\n",
    "# Passing a callable function.\n",
    "series.iloc[call_me]"
   ]
  },
  {
   "cell_type": "code",
   "execution_count": 19,
   "metadata": {},
   "outputs": [
    {
     "data": {
      "text/plain": [
       "A    a\n",
       "H    h\n",
       "D    d\n",
       "dtype: object"
      ]
     },
     "execution_count": 19,
     "metadata": {},
     "output_type": "execute_result"
    }
   ],
   "source": [
    "# Passing a lambda as the callable function.\n",
    "# Also callable function can return any of the other three defined.\n",
    "\n",
    "series.iloc[lambda x: [0, 7, 3]]"
   ]
  },
  {
   "cell_type": "markdown",
   "metadata": {},
   "source": [
    "#### Series.ndim\n",
    "\n",
    "Returns the number of dimensions of a Series.\n",
    "\n",
    "For series, it is always 1."
   ]
  },
  {
   "cell_type": "code",
   "execution_count": 20,
   "metadata": {},
   "outputs": [
    {
     "data": {
      "text/plain": [
       "1"
      ]
     },
     "execution_count": 20,
     "metadata": {},
     "output_type": "execute_result"
    }
   ],
   "source": [
    "series = pd.Series(data=LOWER[:10])\n",
    "\n",
    "series.ndim"
   ]
  },
  {
   "cell_type": "markdown",
   "metadata": {},
   "source": [
    "#### Series.shape\n",
    "\n",
    "Returns a tuple specifying the shape of the series."
   ]
  },
  {
   "cell_type": "code",
   "execution_count": 21,
   "metadata": {},
   "outputs": [
    {
     "data": {
      "text/plain": [
       "(20,)"
      ]
     },
     "execution_count": 21,
     "metadata": {},
     "output_type": "execute_result"
    }
   ],
   "source": [
    "series = pd.Series(data=LOWER[:20])\n",
    "\n",
    "series.shape"
   ]
  },
  {
   "cell_type": "markdown",
   "metadata": {},
   "source": [
    "#### Series.size\n",
    "\n",
    "Returns the number of elements in a series.\n",
    "\n",
    "Basically, it is equals to the multiplication of all values present in the tuple returned by *shape* attribure."
   ]
  },
  {
   "cell_type": "code",
   "execution_count": 22,
   "metadata": {},
   "outputs": [
    {
     "data": {
      "text/plain": [
       "20"
      ]
     },
     "execution_count": 22,
     "metadata": {},
     "output_type": "execute_result"
    }
   ],
   "source": [
    "series = pd.Series(data=LOWER[:20])\n",
    "\n",
    "series.size"
   ]
  }
 ],
 "metadata": {
  "kernelspec": {
   "display_name": "Python 3",
   "language": "python",
   "name": "python3"
  },
  "language_info": {
   "codemirror_mode": {
    "name": "ipython",
    "version": 3
   },
   "file_extension": ".py",
   "mimetype": "text/x-python",
   "name": "python",
   "nbconvert_exporter": "python",
   "pygments_lexer": "ipython3",
   "version": "3.8.2"
  }
 },
 "nbformat": 4,
 "nbformat_minor": 4
}
